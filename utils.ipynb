{
 "cells": [
  {
   "cell_type": "code",
   "execution_count": 13,
   "id": "84351390-05ef-426d-a1e5-9e61339abf3d",
   "metadata": {},
   "outputs": [],
   "source": [
    "import os\n",
    "import shutil\n",
    "\n",
    "input_directory = \"./stargan_custom/generated\"\n",
    "output_directory = \"./temp\""
   ]
  },
  {
   "cell_type": "code",
   "execution_count": 14,
   "id": "12aa8fb3-eb8b-4d79-9690-932f0b0259bf",
   "metadata": {},
   "outputs": [],
   "source": [
    "categories = [\"cloudy\", \"foggy\", \"rain\", \"sunrise\"]\n",
    "for category in categories:\n",
    "    folder_path = os.path.join(output_directory, category)\n",
    "    os.makedirs(folder_path, exist_ok=True)"
   ]
  },
  {
   "cell_type": "code",
   "execution_count": 17,
   "id": "c67f81a5-dd20-4434-a690-5730d72b286d",
   "metadata": {},
   "outputs": [
    {
     "name": "stdout",
     "output_type": "stream",
     "text": [
      ".ipynb_checkpoints\n",
      "0-image-0.jpg\n",
      "0-image-1.jpg\n",
      "0-image-10.jpg\n",
      "0-image-11.jpg\n",
      "0-image-12.jpg\n",
      "0-image-13.jpg\n",
      "0-image-14.jpg\n",
      "0-image-15.jpg\n",
      "0-image-2.jpg\n",
      "0-image-3.jpg\n",
      "0-image-4.jpg\n",
      "0-image-5.jpg\n",
      "0-image-6.jpg\n",
      "0-image-7.jpg\n",
      "0-image-8.jpg\n",
      "0-image-9.jpg\n",
      "1-image-0.jpg\n",
      "1-image-1.jpg\n",
      "1-image-10.jpg\n",
      "1-image-11.jpg\n",
      "1-image-12.jpg\n",
      "1-image-13.jpg\n",
      "1-image-14.jpg\n",
      "1-image-15.jpg\n",
      "1-image-2.jpg\n",
      "1-image-3.jpg\n",
      "1-image-4.jpg\n",
      "1-image-5.jpg\n",
      "1-image-6.jpg\n",
      "1-image-7.jpg\n",
      "1-image-8.jpg\n",
      "1-image-9.jpg\n",
      "2-image-0.jpg\n",
      "2-image-1.jpg\n",
      "2-image-10.jpg\n",
      "2-image-11.jpg\n",
      "2-image-12.jpg\n",
      "2-image-13.jpg\n",
      "2-image-14.jpg\n",
      "2-image-15.jpg\n",
      "2-image-2.jpg\n",
      "2-image-3.jpg\n",
      "2-image-4.jpg\n",
      "2-image-5.jpg\n",
      "2-image-6.jpg\n",
      "2-image-7.jpg\n",
      "2-image-8.jpg\n",
      "2-image-9.jpg\n",
      "3-image-0.jpg\n",
      "3-image-1.jpg\n",
      "3-image-10.jpg\n",
      "3-image-11.jpg\n",
      "3-image-12.jpg\n",
      "3-image-13.jpg\n",
      "3-image-14.jpg\n",
      "3-image-15.jpg\n",
      "3-image-2.jpg\n",
      "3-image-3.jpg\n",
      "3-image-4.jpg\n",
      "3-image-5.jpg\n",
      "3-image-6.jpg\n",
      "3-image-7.jpg\n",
      "3-image-8.jpg\n",
      "3-image-9.jpg\n"
     ]
    }
   ],
   "source": [
    "# Iterate through the images in the input directory\n",
    "for filename in os.listdir(input_directory):\n",
    "    print(filename)\n",
    "    if filename.endswith(\".jpg\") and filename.count('-') == 2:\n",
    "        # Extract the label from the filename\n",
    "        label = int(filename.split(\"-\")[0])\n",
    "\n",
    "        # Check if the label is within the desired range\n",
    "        if 0 <= label < len(categories):\n",
    "            # Construct the destination folder path\n",
    "            destination_folder = os.path.join(output_directory, categories[label])\n",
    "\n",
    "            # Construct the source file path\n",
    "            source_file = os.path.join(input_directory, filename)\n",
    "\n",
    "            # Construct the destination file path\n",
    "            destination_file = os.path.join(destination_folder, filename)\n",
    "\n",
    "            # Move the file to the corresponding folder\n",
    "            shutil.copy(source_file, destination_file)\n",
    "\n",
    "\n",
    "\n"
   ]
  },
  {
   "cell_type": "code",
   "execution_count": null,
   "id": "473d8174-415e-4fc3-a46d-b5f17f3f882f",
   "metadata": {},
   "outputs": [],
   "source": []
  }
 ],
 "metadata": {
  "kernelspec": {
   "display_name": "Python 3 (ipykernel)",
   "language": "python",
   "name": "python3"
  },
  "language_info": {
   "codemirror_mode": {
    "name": "ipython",
    "version": 3
   },
   "file_extension": ".py",
   "mimetype": "text/x-python",
   "name": "python",
   "nbconvert_exporter": "python",
   "pygments_lexer": "ipython3",
   "version": "3.9.9"
  }
 },
 "nbformat": 4,
 "nbformat_minor": 5
}
